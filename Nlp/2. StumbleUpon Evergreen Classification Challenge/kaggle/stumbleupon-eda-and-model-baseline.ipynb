{
 "cells": [
  {
   "cell_type": "code",
   "execution_count": 1,
   "metadata": {
    "_cell_guid": "b1076dfc-b9ad-4769-8c92-a6c4dae69d19",
    "_uuid": "8f2839f25d086af736a60e9eeb907d3b93b6e0e5"
   },
   "outputs": [],
   "source": [
    "import pandas as pd\n",
    "import numpy as np\n",
    "import matplotlib.pyplot as plt\n",
    "import yaml\n",
    "import pandas as pd\n",
    "import numpy as np\n",
    "import matplotlib.pyplot as plt\n",
    "import seaborn as sns\n",
    "from sklearn.preprocessing import LabelEncoder\n",
    "\n",
    "from catboost import CatBoostClassifier, Pool\n",
    "from sklearn.model_selection import train_test_split\n",
    "import datetime\n",
    "\n",
    "from sklearn.model_selection import KFold, StratifiedKFold\n",
    "from sklearn.metrics import roc_auc_score\n",
    "import lightgbm as lgb\n",
    "import xgboost as xgb\n",
    "\n",
    "from sklearn.preprocessing import LabelEncoder\n",
    "\n",
    "\n",
    "df_train = pd.read_csv(\"../input/train.tsv\", sep ='\\t')\n",
    "df_test = pd.read_csv(\"../input/test.tsv\", sep ='\\t' )\n",
    "\n",
    "\n",
    "columns = ['url', 'alchemy_category',\n",
    "       'alchemy_category_score', 'avglinksize', 'commonlinkratio_1',\n",
    "       'commonlinkratio_2', 'commonlinkratio_3', 'commonlinkratio_4',\n",
    "       'compression_ratio', 'embed_ratio', 'framebased', 'frameTagRatio',\n",
    "       'hasDomainLink', 'html_ratio', 'image_ratio', 'is_news',\n",
    "       'lengthyLinkDomain', 'linkwordscore', 'news_front_page',\n",
    "       'non_markup_alphanum_characters', 'numberOfLinks', 'numwords_in_url',\n",
    "       'parametrizedLinkRatio', 'spelling_errors_ratio', 'label']\n",
    "\n",
    "# 'urlid', 'boilerplate',\n",
    "#print(os.listdir(\"../input\"))\n",
    "# Any results you write to the current directory are saved as output."
   ]
  },
  {
   "cell_type": "code",
   "execution_count": 2,
   "metadata": {
    "_cell_guid": "79c7e3d0-c299-4dcb-8224-4455121ee9b0",
    "_uuid": "d629ff2d2480ee46fbb7e2d37f6b5fab8052498a"
   },
   "outputs": [],
   "source": [
    "#================== Features From Web URL ==============\n",
    "def Featurize(df_train):\n",
    "    U1 = df_train['url'].str.split('//',n = -1, expand = True)[1]\n",
    "    U2 = U1.str.split('www.',n = -1, expand = True)[1]\n",
    "    webname = U2.str.split('.',n = -1, expand = True)[0]\n",
    "    U3 = U2.str.split('.',n = -1, expand = True)[1]\n",
    "    domain = U3.str.split('/',n = -1, expand = True)[0]\n",
    "    website_type = U3.str.split('/',n = -1, expand = True)[1]\n",
    "    U4 = U3.str.split('/',n = -1, expand = True)[2]\n",
    "    website_type2 = U4.str.split('/',n = -1, expand = True)[0]\n",
    "\n",
    "    ###================= Categorical Features out of this ======\n",
    "    df_train[\"website\"] = webname\n",
    "    df_train[\"website_type\"] = website_type\n",
    "    df_train[\"website_type2\"] = website_type2\n",
    "    df_train[\"domain\"] = domain\n",
    "    \n",
    "    #============== Other Features ==================================\n",
    "    df_train['alchemy_category_score'] = pd.to_numeric(df_train['alchemy_category_score'], errors='coerce')\n",
    "    df_train[\"is_news\"] = pd.to_numeric(df_train[\"is_news\"], errors='coerce')\n",
    "    df_train[\"news_front_page\"] = pd.to_numeric(df_train[\"news_front_page\"], errors='coerce')    \n",
    "    \n",
    "    return df_train\n"
   ]
  },
  {
   "cell_type": "code",
   "execution_count": 3,
   "metadata": {},
   "outputs": [],
   "source": [
    "df_train = Featurize(df_train)\n",
    "df_test = Featurize(df_test)"
   ]
  },
  {
   "cell_type": "code",
   "execution_count": 4,
   "metadata": {},
   "outputs": [
    {
     "name": "stdout",
     "output_type": "stream",
     "text": [
      "set()\n"
     ]
    }
   ],
   "source": [
    "S1 = set(df_test['website'].value_counts()[df_test['website'].value_counts() > 0].index)\n",
    "S2 = set(df_train['website'].value_counts().index)\n",
    "S1 = S2.intersection(S1)\n",
    "S2t = set(df_test['website'].value_counts().index)\n",
    "S3 = S1 - S2\n",
    "\n",
    "S4 = list(S2-S1)\n",
    "S5 = list(S2t-S1)\n",
    "len(S3)\n",
    "print(S3)\n",
    "df_train['website'] = df_train['website'].replace(S4, 'random')\n",
    "df_test['website'] = df_test['website'].replace(S5, 'random')"
   ]
  },
  {
   "cell_type": "code",
   "execution_count": 5,
   "metadata": {},
   "outputs": [],
   "source": [
    "#list(df_train[\"website\"].value_counts().index)#(ascending = True).iloc[0:-10].plot('barh')"
   ]
  },
  {
   "cell_type": "code",
   "execution_count": 6,
   "metadata": {},
   "outputs": [
    {
     "name": "stdout",
     "output_type": "stream",
     "text": [
      "random            1900\n",
      "insidershealth     143\n",
      "huffingtonpost      99\n",
      "youtube             85\n",
      "ivillage            59\n",
      "Name: website, dtype: int64\n",
      "random            664\n",
      "insidershealth     60\n",
      "youtube            39\n",
      "huffingtonpost     26\n",
      "ivillage           24\n",
      "Name: website, dtype: int64\n"
     ]
    }
   ],
   "source": [
    "print(df_train[\"website\"].value_counts().head())\n",
    "print(df_test[\"website\"].value_counts().head())"
   ]
  },
  {
   "cell_type": "code",
   "execution_count": 7,
   "metadata": {},
   "outputs": [
    {
     "name": "stdout",
     "output_type": "stream",
     "text": [
      "set()\n"
     ]
    }
   ],
   "source": [
    "S1 = set(df_test['website_type'].value_counts()[df_test['website_type'].value_counts() > 0].index)\n",
    "S2 = set(df_train['website_type'].value_counts().index)\n",
    "S1 = S2.intersection(S1)\n",
    "S2t = set(df_test['website_type'].value_counts().index)\n",
    "\n",
    "S3 = S1 - S2\n",
    "S4 = list(S2-S1)\n",
    "S5 = list(S2t-S1)\n",
    "len(S3)\n",
    "print(S3)\n",
    "df_train['website_type'] = df_train['website_type'].replace(S4, 'random')\n",
    "df_test['website_type'] = df_test['website_type'].replace(S5, 'random')"
   ]
  },
  {
   "cell_type": "code",
   "execution_count": 8,
   "metadata": {},
   "outputs": [],
   "source": [
    "df_train['website_type'] = df_train['website_type'].replace({'2007':'YEAR', '2008':'YEAR', \n",
    "                              '2009':'YEAR', '2010':'YEAR',\n",
    "                             '2011':'YEAR', '2012':'YEAR',\n",
    "                             '2013':'YEAR'})\n",
    "\n",
    "df_test['website_type'] = df_test['website_type'].replace({'2007':'YEAR', '2008':'YEAR', \n",
    "                              '2009':'YEAR', '2010':'YEAR',\n",
    "                             '2011':'YEAR', '2012':'YEAR',\n",
    "                             '2013':'YEAR'})"
   ]
  },
  {
   "cell_type": "code",
   "execution_count": 9,
   "metadata": {},
   "outputs": [],
   "source": [
    "#list(df_train[\"website_type\"].value_counts().index)"
   ]
  },
  {
   "cell_type": "code",
   "execution_count": 10,
   "metadata": {},
   "outputs": [
    {
     "name": "stdout",
     "output_type": "stream",
     "text": [
      "set()\n"
     ]
    }
   ],
   "source": [
    "S1 = set(df_test['website_type2'].value_counts()[df_test['website_type2'].value_counts() > 0].index)\n",
    "S2 = set(df_train['website_type2'].value_counts().index)\n",
    "S1 = S2.intersection(S1)\n",
    "S2t = set(df_test['website_type2'].value_counts().index)\n",
    "\n",
    "S3 = S1 - S2\n",
    "S4 = list(S2-S1)\n",
    "S5 = list(S2t-S1)\n",
    "len(S3)\n",
    "print(S3)\n",
    "df_train['website_type2'] = df_train['website_type2'].replace(S4, 'random')\n",
    "df_test['website_type2'] = df_test['website_type2'].replace(S5, 'random')"
   ]
  },
  {
   "cell_type": "code",
   "execution_count": 11,
   "metadata": {},
   "outputs": [],
   "source": [
    "#list(df_train[\"domain\"].value_counts().index)"
   ]
  },
  {
   "cell_type": "code",
   "execution_count": 12,
   "metadata": {},
   "outputs": [
    {
     "name": "stdout",
     "output_type": "stream",
     "text": [
      "set()\n"
     ]
    }
   ],
   "source": [
    "S1 = set(df_test['domain'].value_counts()[df_test['domain'].value_counts() > 0].index)\n",
    "S2 = set(df_train['domain'].value_counts().index)\n",
    "S1 = S2.intersection(S1)\n",
    "S2t = set(df_test['domain'].value_counts().index)\n",
    "\n",
    "S3 = S1 - S2\n",
    "S4 = list(S2-S1)\n",
    "S5 = list(S2t-S1)\n",
    "len(S3)\n",
    "print(S3)\n",
    "df_train['domain'] = df_train['domain'].replace(S4, 'random')\n",
    "df_test['domain'] = df_test['domain'].replace(S5, 'random')"
   ]
  },
  {
   "cell_type": "code",
   "execution_count": 13,
   "metadata": {},
   "outputs": [],
   "source": [
    "# #================== Features From Boilerplate ==============\n",
    "# df_train['boilerplate']\n",
    "\n",
    "# def func(x):\n",
    "#     try:\n",
    "#         return yaml.load(x).keys()\n",
    "#     except:\n",
    "#         return \"RELOOK\"\n",
    "    \n",
    "# A = df_train['boilerplate'].apply(func)\n",
    "\n",
    "# #============== Features ==================================\n",
    "# A = pd.to_numeric(df_train['alchemy_category_score'], errors='coerce')\n"
   ]
  },
  {
   "cell_type": "code",
   "execution_count": 14,
   "metadata": {},
   "outputs": [],
   "source": [
    "columns =  [i for i in df_train.columns if i not in [ 'url','urlid', 'boilerplate', 'label']]"
   ]
  },
  {
   "cell_type": "code",
   "execution_count": 15,
   "metadata": {},
   "outputs": [],
   "source": [
    "cat_variable =[]\n",
    "k =0\n",
    "for i in df_train[columns].dtypes:\n",
    "    if(i == 'O'):\n",
    "        cat_variable.append(k)    \n",
    "    k =k+1"
   ]
  },
  {
   "cell_type": "code",
   "execution_count": 16,
   "metadata": {},
   "outputs": [
    {
     "name": "stdout",
     "output_type": "stream",
     "text": [
      "{'unknown', 'weather'}\n",
      "set()\n",
      "set()\n",
      "set()\n",
      "set()\n"
     ]
    }
   ],
   "source": [
    "enc = LabelEncoder()\n",
    "for i in cat_variable:\n",
    "    S = set(df_train[columns[i]]) - set(df_test[columns[i]])\n",
    "    print(S)\n",
    "    for k in S:\n",
    "        df_train[columns[i]] = df_train[columns[i]].replace([k,'<', np.nan], 'NaN')\n",
    "        df_test[columns[i]] = df_test[columns[i]].replace([k,'<', np.nan], 'NaN')\n",
    "        \n",
    "        #df_train[columns[i]] = df_train[columns[i]].astype('category')\n",
    "        #df_test[columns[i]] = df_test[columns[i]].astype('category')\n",
    "    \n",
    "    #df_train[columns[i]].astype(str).replace('nan', np.nan)\n",
    "#     enc.fit(df_train[columns[i]].astype('category'))\n",
    "#     df_train[columns[i]] = enc.transform(df_train[columns[i]])\n",
    "#     df_test[columns[i]] = enc.transform(df_test[columns[i]])"
   ]
  },
  {
   "cell_type": "code",
   "execution_count": 17,
   "metadata": {},
   "outputs": [
    {
     "data": {
      "text/plain": [
       "array([ 0, 23, 24, 25, 26])"
      ]
     },
     "execution_count": 17,
     "metadata": {},
     "output_type": "execute_result"
    }
   ],
   "source": [
    "np.array(cat_variable)"
   ]
  },
  {
   "cell_type": "code",
   "execution_count": 18,
   "metadata": {},
   "outputs": [],
   "source": [
    "df_train.fillna(0, inplace = True)\n",
    "df_test.fillna(0, inplace = True)"
   ]
  },
  {
   "cell_type": "code",
   "execution_count": 19,
   "metadata": {},
   "outputs": [
    {
     "data": {
      "text/plain": [
       "0     random\n",
       "1    article\n",
       "2     random\n",
       "3         12\n",
       "4          0\n",
       "Name: website_type2, dtype: object"
      ]
     },
     "execution_count": 19,
     "metadata": {},
     "output_type": "execute_result"
    }
   ],
   "source": [
    "#df_train[columns[np.array(cat_variable)]].head()\n",
    "df_train[columns[cat_variable[3]]].head()"
   ]
  },
  {
   "cell_type": "code",
   "execution_count": 20,
   "metadata": {},
   "outputs": [
    {
     "name": "stdout",
     "output_type": "stream",
     "text": [
      "{'loss_function': 'Logloss', 'eval_metric': 'AUC', 'task_type': 'GPU', 'learning_rate': 0.07, 'iterations': 70000, 'l2_leaf_reg': 197, 'random_seed': 432013, 'od_type': 'Iter', 'max_depth': 4, 'early_stopping_rounds': 500, 'border_count': 64, 'bagging_temperature': 2}\n",
      "fold 0\n",
      "0:\tlearn: 0.7003728\ttest: 0.7069435\tbest: 0.7069435 (0)\ttotal: 35.8ms\tremaining: 41m 42s\n",
      "200:\tlearn: 0.7999040\ttest: 0.7809457\tbest: 0.7809457 (200)\ttotal: 6.39s\tremaining: 36m 58s\n",
      "400:\tlearn: 0.8184756\ttest: 0.7847387\tbest: 0.7849032 (385)\ttotal: 12.6s\tremaining: 36m 23s\n",
      "600:\tlearn: 0.8300295\ttest: 0.7859083\tbest: 0.7862262 (520)\ttotal: 18.8s\tremaining: 36m 9s\n",
      "800:\tlearn: 0.8391967\ttest: 0.7863340\tbest: 0.7864656 (751)\ttotal: 24.8s\tremaining: 35m 39s\n",
      "1000:\tlearn: 0.8473880\ttest: 0.7868512\tbest: 0.7869335 (993)\ttotal: 30.6s\tremaining: 35m 12s\n",
      "1200:\tlearn: 0.8543890\ttest: 0.7867160\tbest: 0.7869335 (993)\ttotal: 36.5s\tremaining: 34m 52s\n",
      "1400:\tlearn: 0.8616955\ttest: 0.7873191\tbest: 0.7873191 (1400)\ttotal: 42.5s\tremaining: 34m 41s\n",
      "1600:\tlearn: 0.8681121\ttest: 0.7881378\tbest: 0.7881999 (1599)\ttotal: 48.6s\tremaining: 34m 34s\n",
      "1800:\tlearn: 0.8737603\ttest: 0.7879496\tbest: 0.7883096 (1621)\ttotal: 54.6s\tremaining: 34m 28s\n",
      "2000:\tlearn: 0.8788024\ttest: 0.7879934\tbest: 0.7883096 (1621)\ttotal: 1m\tremaining: 34m 24s\n",
      "bestTest = 0.7883095741\n",
      "bestIteration = 1621\n",
      "Shrink model to first 1622 iterations.\n",
      "fold 1\n",
      "0:\tlearn: 0.6819332\ttest: 0.7048282\tbest: 0.7048282 (0)\ttotal: 33.7ms\tremaining: 39m 16s\n",
      "200:\tlearn: 0.8020473\ttest: 0.7870187\tbest: 0.7872438 (197)\ttotal: 6.2s\tremaining: 35m 53s\n",
      "400:\tlearn: 0.8177329\ttest: 0.7911461\tbest: 0.7911753 (398)\ttotal: 12.2s\tremaining: 35m 13s\n",
      "600:\tlearn: 0.8288961\ttest: 0.7930126\tbest: 0.7931772 (591)\ttotal: 18.3s\tremaining: 35m 12s\n",
      "800:\tlearn: 0.8384963\ttest: 0.7925514\tbest: 0.7934407 (703)\ttotal: 24.4s\tremaining: 35m 7s\n",
      "1000:\tlearn: 0.8476688\ttest: 0.7931589\tbest: 0.7934407 (703)\ttotal: 30.6s\tremaining: 35m 7s\n",
      "1200:\tlearn: 0.8542361\ttest: 0.7926777\tbest: 0.7934407 (703)\ttotal: 36.7s\tremaining: 35m 3s\n",
      "bestTest = 0.7934407294\n",
      "bestIteration = 703\n",
      "Shrink model to first 704 iterations.\n",
      "fold 2\n",
      "0:\tlearn: 0.6951564\ttest: 0.6957684\tbest: 0.6957684 (0)\ttotal: 33.4ms\tremaining: 38m 58s\n",
      "200:\tlearn: 0.7995939\ttest: 0.7912769\tbest: 0.7912769 (200)\ttotal: 6.2s\tremaining: 35m 53s\n",
      "400:\tlearn: 0.8167292\ttest: 0.7967190\tbest: 0.7969093 (398)\ttotal: 12.1s\tremaining: 35m 5s\n",
      "600:\tlearn: 0.8267863\ttest: 0.7980676\tbest: 0.7980914 (595)\ttotal: 18s\tremaining: 34m 40s\n",
      "800:\tlearn: 0.8367025\ttest: 0.8003550\tbest: 0.8005179 (789)\ttotal: 24s\tremaining: 34m 30s\n",
      "1000:\tlearn: 0.8447245\ttest: 0.8011236\tbest: 0.8013358 (967)\ttotal: 29.9s\tremaining: 34m 18s\n",
      "1200:\tlearn: 0.8519239\ttest: 0.8017018\tbest: 0.8018281 (1130)\ttotal: 35.9s\tremaining: 34m 18s\n",
      "1400:\tlearn: 0.8581796\ttest: 0.8019122\tbest: 0.8020092 (1388)\ttotal: 41.8s\tremaining: 34m 7s\n",
      "1600:\tlearn: 0.8643126\ttest: 0.8024777\tbest: 0.8027338 (1565)\ttotal: 47.7s\tremaining: 33m 58s\n",
      "1800:\tlearn: 0.8699017\ttest: 0.8032041\tbest: 0.8033505 (1795)\ttotal: 53.7s\tremaining: 33m 53s\n",
      "2000:\tlearn: 0.8746474\ttest: 0.8032261\tbest: 0.8034475 (1965)\ttotal: 59.8s\tremaining: 33m 51s\n",
      "2200:\tlearn: 0.8794218\ttest: 0.8032060\tbest: 0.8034475 (1965)\ttotal: 1m 5s\tremaining: 33m 45s\n",
      "2400:\tlearn: 0.8837579\ttest: 0.8030468\tbest: 0.8035317 (2230)\ttotal: 1m 11s\tremaining: 33m 40s\n",
      "2600:\tlearn: 0.8872225\ttest: 0.8028730\tbest: 0.8035317 (2230)\ttotal: 1m 17s\tremaining: 33m 33s\n",
      "bestTest = 0.8035317063\n",
      "bestIteration = 2230\n",
      "Shrink model to first 2231 iterations.\n",
      "fold 3\n",
      "0:\tlearn: 0.7074164\ttest: 0.7094789\tbest: 0.7094789 (0)\ttotal: 32.8ms\tremaining: 38m 13s\n",
      "200:\tlearn: 0.7980616\ttest: 0.7878587\tbest: 0.7878733 (199)\ttotal: 6.17s\tremaining: 35m 41s\n",
      "400:\tlearn: 0.8139226\ttest: 0.7939339\tbest: 0.7939998 (388)\ttotal: 12.1s\tremaining: 35m 5s\n",
      "600:\tlearn: 0.8263854\ttest: 0.7970282\tbest: 0.7973247 (571)\ttotal: 18.2s\tremaining: 35m 3s\n",
      "800:\tlearn: 0.8354995\ttest: 0.7979450\tbest: 0.7980402 (766)\ttotal: 24.3s\tremaining: 34m 58s\n",
      "1000:\tlearn: 0.8431342\ttest: 0.7972405\tbest: 0.7982415 (827)\ttotal: 30.4s\tremaining: 34m 56s\n",
      "1200:\tlearn: 0.8500233\ttest: 0.7971948\tbest: 0.7982415 (827)\ttotal: 36.5s\tremaining: 34m 49s\n",
      "bestTest = 0.7982414961\n",
      "bestIteration = 827\n",
      "Shrink model to first 828 iterations.\n",
      "fold 4\n",
      "0:\tlearn: 0.7033874\ttest: 0.7156074\tbest: 0.7156074 (0)\ttotal: 30.6ms\tremaining: 35m 43s\n",
      "200:\tlearn: 0.8020192\ttest: 0.7950024\tbest: 0.7951398 (199)\ttotal: 6.32s\tremaining: 36m 35s\n",
      "400:\tlearn: 0.8176681\ttest: 0.7976759\tbest: 0.7978262 (378)\ttotal: 12.4s\tremaining: 35m 45s\n",
      "600:\tlearn: 0.8281687\ttest: 0.7994497\tbest: 0.7995047 (596)\ttotal: 18.5s\tremaining: 35m 34s\n",
      "800:\tlearn: 0.8380921\ttest: 0.8010549\tbest: 0.8010549 (800)\ttotal: 24.7s\tremaining: 35m 34s\n",
      "1000:\tlearn: 0.8453879\ttest: 0.8009633\tbest: 0.8016267 (867)\ttotal: 31s\tremaining: 35m 37s\n",
      "1200:\tlearn: 0.8523325\ttest: 0.8000672\tbest: 0.8016267 (867)\ttotal: 37.3s\tremaining: 35m 33s\n",
      "bestTest = 0.8016266525\n",
      "bestIteration = 867\n",
      "Shrink model to first 868 iterations.\n"
     ]
    }
   ],
   "source": [
    "param = {  \"loss_function\" : \"Logloss\",\n",
    "           \"eval_metric\":\"AUC\",\n",
    "           \"task_type\":\"GPU\",\n",
    "           \"learning_rate\":   0.07, #4506133538414295,#trial.suggest_loguniform('learning_rate', 1e-2, 1e-1),\n",
    "           \"iterations\":70000,\n",
    "           \"l2_leaf_reg\":   197, #trial.suggest_int('l2_leaf_reg', 10, 200),\n",
    "           \"random_seed\" : 432013,\n",
    "           \"od_type\" : \"Iter\",\n",
    "          # \"depth\" : 5,\n",
    "           \"max_depth\":   4, #trial.suggest_int('max_depth', 2, 16),\n",
    "           \"early_stopping_rounds\" : 500,\n",
    "           \"border_count\" :64 , #trial.suggest_int('border_count', 16, 512),\n",
    "             \"bagging_temperature\" :   2,   #trial.suggest_int('bagging_temperature', 2, 40)\n",
    "           \"task_type\" : 'GPU'\n",
    "        }\n",
    "\n",
    "    \n",
    "print(param)\n",
    "\n",
    "df_train_columns = columns#df_train.columns#columns[:-1]\n",
    "\n",
    "cat_feature_inds =cat_variable\n",
    "\n",
    "folds = StratifiedKFold(n_splits=5, shuffle=True, random_state=4590)\n",
    "oof = np.zeros(len(df_train))\n",
    "predictions = np.zeros(len(df_test))\n",
    "feature_importance_df = pd.DataFrame()\n",
    "target = df_train['label']\n",
    "\n",
    "\n",
    "for fold_, (trn_idx, val_idx) in enumerate(folds.split(df_train, target)):\n",
    "    print(\"fold {}\".format(fold_))\n",
    "    X_train, y_train = df_train.iloc[trn_idx][df_train_columns], target.iloc[trn_idx]\n",
    "    X_valid, y_valid = df_train.iloc[val_idx][df_train_columns], target.iloc[val_idx]\n",
    "    _train = Pool(X_train, label=y_train, cat_features = cat_feature_inds)\n",
    "    _valid = Pool(X_valid, label=y_valid, cat_features = cat_feature_inds)\n",
    "\n",
    "    clf = CatBoostClassifier(**param)\n",
    "    clf.fit(\n",
    "            _train,\n",
    "            eval_set=_valid,\n",
    "            use_best_model=True,\n",
    "            verbose=200,\n",
    "            #plot=True\n",
    "    )\n",
    "\n",
    "    oof[val_idx] = clf.predict_proba(df_train.iloc[val_idx][df_train_columns])[:,1]\n",
    "\n",
    "    fold_importance_df = pd.DataFrame()\n",
    "    fold_importance_df[\"Feature\"] = df_train_columns\n",
    "    fold_importance_df[\"importance\"] = clf.feature_importances_\n",
    "    fold_importance_df[\"fold\"] = fold_ + 1\n",
    "    feature_importance_df = pd.concat([feature_importance_df, fold_importance_df], axis=0)\n",
    "\n",
    "    predictions += clf.predict_proba(df_test[df_train_columns])[:,1] / folds.n_splits\n",
    "\n"
   ]
  },
  {
   "cell_type": "code",
   "execution_count": 21,
   "metadata": {},
   "outputs": [
    {
     "name": "stdout",
     "output_type": "stream",
     "text": [
      "0.7967195254740882\n"
     ]
    }
   ],
   "source": [
    "CV = roc_auc_score(target, oof)\n",
    "print(CV)"
   ]
  },
  {
   "cell_type": "code",
   "execution_count": 22,
   "metadata": {},
   "outputs": [
    {
     "data": {
      "text/plain": [
       "array([0.65878675, 0.13800025, 0.61423461, ..., 0.35463632, 0.14300917,\n",
       "       0.40593044])"
      ]
     },
     "execution_count": 22,
     "metadata": {},
     "output_type": "execute_result"
    }
   ],
   "source": [
    "oof"
   ]
  },
  {
   "cell_type": "code",
   "execution_count": 23,
   "metadata": {},
   "outputs": [
    {
     "data": {
      "image/png": "[encoded data removed]",
      "text/plain": [
       "<Figure size 864x864 with 1 Axes>"
      ]
     },
     "metadata": {
      "needs_background": "light"
     },
     "output_type": "display_data"
    }
   ],
   "source": [
    "for i in range(1):\n",
    "    cols = (feature_importance_df[[\"Feature\", \"importance\"]]\n",
    "            .groupby(\"Feature\")\n",
    "            .mean()\n",
    "            .sort_values(by=\"importance\", ascending=False)[:5000].index)\n",
    "\n",
    "    best_features = feature_importance_df.loc[feature_importance_df.Feature.isin(cols)]\n",
    "\n",
    "    plt.figure(figsize=(12,12))\n",
    "    sns.barplot(x=\"importance\",\n",
    "                y=\"Feature\",\n",
    "                data=best_features.sort_values(by=\"importance\",\n",
    "                                               ascending=False))\n",
    "    plt.title('CatBoost Features (avg over folds)')\n",
    "    plt.tight_layout()\n",
    "    plt.show()\n",
    "\n",
    "\n",
    "imp = best_features.groupby('Feature')['importance'].median().sort_values(ascending=False)"
   ]
  },
  {
   "cell_type": "code",
   "execution_count": 24,
   "metadata": {},
   "outputs": [
    {
     "data": {
      "text/html": [
       "<div>\n",
       "<style scoped>\n",
       "    .dataframe tbody tr th:only-of-type {\n",
       "        vertical-align: middle;\n",
       "    }\n",
       "\n",
       "    .dataframe tbody tr th {\n",
       "        vertical-align: top;\n",
       "    }\n",
       "\n",
       "    .dataframe thead th {\n",
       "        text-align: right;\n",
       "    }\n",
       "</style>\n",
       "<table border=\"1\" class=\"dataframe\">\n",
       "  <thead>\n",
       "    <tr style=\"text-align: right;\">\n",
       "      <th></th>\n",
       "      <th>urlid</th>\n",
       "      <th>label</th>\n",
       "    </tr>\n",
       "  </thead>\n",
       "  <tbody>\n",
       "    <tr>\n",
       "      <th>0</th>\n",
       "      <td>5865</td>\n",
       "      <td>0.837482</td>\n",
       "    </tr>\n",
       "    <tr>\n",
       "      <th>1</th>\n",
       "      <td>782</td>\n",
       "      <td>0.343338</td>\n",
       "    </tr>\n",
       "    <tr>\n",
       "      <th>2</th>\n",
       "      <td>6962</td>\n",
       "      <td>0.319364</td>\n",
       "    </tr>\n",
       "    <tr>\n",
       "      <th>3</th>\n",
       "      <td>7640</td>\n",
       "      <td>0.086339</td>\n",
       "    </tr>\n",
       "    <tr>\n",
       "      <th>4</th>\n",
       "      <td>3589</td>\n",
       "      <td>0.255772</td>\n",
       "    </tr>\n",
       "  </tbody>\n",
       "</table>\n",
       "</div>"
      ],
      "text/plain": [
       "   urlid     label\n",
       "0   5865  0.837482\n",
       "1    782  0.343338\n",
       "2   6962  0.319364\n",
       "3   7640  0.086339\n",
       "4   3589  0.255772"
      ]
     },
     "execution_count": 24,
     "metadata": {},
     "output_type": "execute_result"
    }
   ],
   "source": [
    "submission = pd.read_csv(\"../input/sampleSubmission.csv\")\n",
    "submission['label'] = predictions\n",
    "submission.to_csv(\"submission.csv\", index = False)\n",
    "\n",
    "submission.head()"
   ]
  }
 ],
 "metadata": {
  "kernelspec": {
   "display_name": "Python 3",
   "language": "python",
   "name": "python3"
  },
  "language_info": {
   "codemirror_mode": {
    "name": "ipython",
    "version": 3
   },
   "file_extension": ".py",
   "mimetype": "text/x-python",
   "name": "python",
   "nbconvert_exporter": "python",
   "pygments_lexer": "ipython3",
   "version": "3.6.6"
  }
 },
 "nbformat": 4,
 "nbformat_minor": 1
}
