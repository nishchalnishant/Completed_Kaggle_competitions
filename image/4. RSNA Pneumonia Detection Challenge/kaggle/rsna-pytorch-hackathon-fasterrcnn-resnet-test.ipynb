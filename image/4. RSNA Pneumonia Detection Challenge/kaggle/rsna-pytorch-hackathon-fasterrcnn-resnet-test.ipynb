{
 "cells": [
  {
   "cell_type": "code",
   "execution_count": 1,
   "metadata": {
    "_cell_guid": "b1076dfc-b9ad-4769-8c92-a6c4dae69d19",
    "_uuid": "8f2839f25d086af736a60e9eeb907d3b93b6e0e5",
    "execution": {
     "iopub.execute_input": "2020-08-21T13:45:56.606010Z",
     "iopub.status.busy": "2020-08-21T13:45:56.605063Z",
     "iopub.status.idle": "2020-08-21T13:45:56.608913Z",
     "shell.execute_reply": "2020-08-21T13:45:56.609433Z"
    },
    "papermill": {
     "duration": 0.016709,
     "end_time": "2020-08-21T13:45:56.609582",
     "exception": false,
     "start_time": "2020-08-21T13:45:56.592873",
     "status": "completed"
    },
    "tags": []
   },
   "outputs": [
    {
     "name": "stdout",
     "output_type": "stream",
     "text": [
      "Writing test.py\n"
     ]
    }
   ],
   "source": [
    "%%writefile test.py\n",
    "import pandas as pd\n",
    "import numpy as np\n",
    "import cv2\n",
    "import os\n",
    "import re\n",
    "import albumentations as A\n",
    "import torch\n",
    "import torchvision\n",
    "\n",
    "from torchvision.models.detection.faster_rcnn import FastRCNNPredictor\n",
    "from torchvision.models.detection import FasterRCNN\n",
    "from torchvision.models.detection.rpn import AnchorGenerator\n",
    "from torch.utils.data import DataLoader, Dataset\n",
    "from torch.utils.data.sampler import SequentialSampler\n",
    "from PIL import Image\n",
    "from albumentations.pytorch.transforms import ToTensorV2\n",
    "from matplotlib import pyplot as plt\n",
    "from tqdm import tqdm\n",
    "\n",
    "device = torch.device('cuda') if torch.cuda.is_available() else torch.device('cpu')\n",
    "\n",
    "DIR_INPUT = '../input/rsna-pneumonia-detection-2018/input'\n",
    "DIR_TEST = f\"{DIR_INPUT}/samples\"\n",
    "test_images = os.listdir(DIR_TEST)\n",
    "print(f\"Validation instances: {len(test_images)}\")\n",
    "\n",
    "# load a model; pre-trained on COCO\n",
    "model = torchvision.models.detection.fasterrcnn_resnet50_fpn(pretrained=True, min_size=1024)\n",
    "num_classes = 2  # 1 class (pnueomonia) + background\n",
    "# get the number of input features for the classifier\n",
    "in_features = model.roi_heads.box_predictor.cls_score.in_features\n",
    "# replace the pre-trained head with a new one\n",
    "model.roi_heads.box_predictor = FastRCNNPredictor(in_features, num_classes)\n",
    "\n",
    "os.makedirs('../validation_predictions', exist_ok=True)\n",
    "model.load_state_dict(torch.load('../input/rsna-pytorch-hackathon-fasterrcnn-resnet-training/fasterrcnn_resnet50_fpn.pth'))\n",
    "model.to(device)\n",
    "\n",
    "def format_prediction_string(boxes, scores):\n",
    "    pred_strings = []\n",
    "    for j in zip(scores, boxes):\n",
    "        pred_strings.append(\"{0:.4f} {1} {2} {3} {4}\".format(j[0], \n",
    "                                                             int(j[1][0]), int(j[1][1]), \n",
    "                                                             int(j[1][2]), int(j[1][3])))\n",
    "\n",
    "    return \" \".join(pred_strings)\n",
    "\n",
    "detection_threshold = 0.9\n",
    "img_num = 0\n",
    "results = []\n",
    "model.eval()\n",
    "with torch.no_grad():\n",
    "    for i, image in tqdm(enumerate(test_images), total=len(test_images)):\n",
    "\n",
    "        orig_image = cv2.imread(f\"{DIR_TEST}/{test_images[i]}\", cv2.IMREAD_COLOR)\n",
    "        image = cv2.cvtColor(orig_image, cv2.COLOR_BGR2RGB).astype(np.float32)\n",
    "        image /= 255.0\n",
    "        image = np.transpose(image, (2, 0, 1)).astype(np.float)\n",
    "        image = torch.tensor(image, dtype=torch.float).cuda()\n",
    "        image = torch.unsqueeze(image, 0)\n",
    "\n",
    "        model.eval()\n",
    "        cpu_device = torch.device(\"cpu\")\n",
    "\n",
    "        outputs = model(image)\n",
    "        \n",
    "        outputs = [{k: v.to(cpu_device) for k, v in t.items()} for t in outputs]\n",
    "        if len(outputs[0]['boxes']) != 0:\n",
    "            for counter in range(len(outputs[0]['boxes'])):\n",
    "                boxes = outputs[0]['boxes'].data.cpu().numpy()\n",
    "                scores = outputs[0]['scores'].data.cpu().numpy()\n",
    "                boxes = boxes[scores >= detection_threshold].astype(np.int32)\n",
    "                draw_boxes = boxes.copy()\n",
    "                boxes[:, 2] = boxes[:, 2] - boxes[:, 0]\n",
    "                boxes[:, 3] = boxes[:, 3] - boxes[:, 1]\n",
    "                \n",
    "            for box in draw_boxes:\n",
    "                cv2.rectangle(orig_image,\n",
    "                            (int(box[0]), int(box[1])),\n",
    "                            (int(box[2]), int(box[3])),\n",
    "                            (0, 0, 255), 3)\n",
    "        \n",
    "            plt.imshow(cv2.cvtColor(orig_image, cv2.COLOR_BGR2RGB))\n",
    "            plt.axis('off')\n",
    "            plt.savefig(f\"{test_images[i]}\")\n",
    "            plt.close()\n",
    "                \n",
    "            result = {\n",
    "                'patientId': test_images[i].split('.')[0],\n",
    "                'PredictionString': format_prediction_string(boxes, scores)\n",
    "            }\n",
    "            results.append(result)\n",
    "        else:\n",
    "            result = {\n",
    "                'patientId': test_images[i].split('.')[0],\n",
    "                'PredictionString': None\n",
    "            }\n",
    "            results.append(result)\n",
    "\n",
    "sub_df = pd.DataFrame(results, columns=['patientId', 'PredictionString'])\n",
    "print(sub_df.head())\n",
    "sub_df.to_csv('submission.csv', index=False)"
   ]
  },
  {
   "cell_type": "code",
   "execution_count": 2,
   "metadata": {
    "_cell_guid": "79c7e3d0-c299-4dcb-8224-4455121ee9b0",
    "_uuid": "d629ff2d2480ee46fbb7e2d37f6b5fab8052498a",
    "execution": {
     "iopub.execute_input": "2020-08-21T13:45:56.623478Z",
     "iopub.status.busy": "2020-08-21T13:45:56.622582Z",
     "iopub.status.idle": "2020-08-21T13:58:14.554339Z",
     "shell.execute_reply": "2020-08-21T13:58:14.553629Z"
    },
    "papermill": {
     "duration": 737.939886,
     "end_time": "2020-08-21T13:58:14.554455",
     "exception": false,
     "start_time": "2020-08-21T13:45:56.614569",
     "status": "completed"
    },
    "tags": []
   },
   "outputs": [
    {
     "name": "stdout",
     "output_type": "stream",
     "text": [
      "Validation instances: 3000\r\n",
      "Downloading: \"https://download.pytorch.org/models/fasterrcnn_resnet50_fpn_coco-258fb6c6.pth\" to /root/.cache/torch/checkpoints/fasterrcnn_resnet50_fpn_coco-258fb6c6.pth\r\n",
      "100%|████████████████████████████████████████| 160M/160M [00:03<00:00, 52.7MB/s]\r\n",
      "  0%|                                                  | 0/3000 [00:00<?, ?it/s]/opt/conda/conda-bld/pytorch_1591914880026/work/torch/csrc/utils/python_arg_parser.cpp:756: UserWarning: This overload of nonzero is deprecated:\r\n",
      "\tnonzero(Tensor input, *, Tensor out)\r\n",
      "Consider using one of the following signatures instead:\r\n",
      "\tnonzero(Tensor input, *, bool as_tuple)\r\n",
      "100%|███████████████████████████████████████| 3000/3000 [12:01<00:00,  4.16it/s]\r\n",
      "                              patientId                               PredictionString\r\n",
      "0  025375ff-f79d-42ab-a443-b0d5671eaffc  0.9819 161 299 259 476 0.9726 620 201 233 576\r\n",
      "1  1b07d941-e451-4ec8-8c64-f9fa43d5203c                                               \r\n",
      "2  2eec3d8b-5153-4e45-a1e8-345ffcfea1a0                         0.9866 262 524 159 188\r\n",
      "3  22c52925-efbf-4561-826f-1866129383a2  0.9673 638 267 219 503 0.9179 199 440 194 298\r\n",
      "4  0e972c53-45ac-4313-a3c9-ffd5656b9619                                               \r\n"
     ]
    }
   ],
   "source": [
    "!python test.py"
   ]
  },
  {
   "cell_type": "code",
   "execution_count": null,
   "metadata": {
    "papermill": {
     "duration": 1.041041,
     "end_time": "2020-08-21T13:58:16.614028",
     "exception": false,
     "start_time": "2020-08-21T13:58:15.572987",
     "status": "completed"
    },
    "tags": []
   },
   "outputs": [],
   "source": []
  },
  {
   "cell_type": "code",
   "execution_count": null,
   "metadata": {
    "papermill": {
     "duration": 1.294133,
     "end_time": "2020-08-21T13:58:19.078096",
     "exception": false,
     "start_time": "2020-08-21T13:58:17.783963",
     "status": "completed"
    },
    "tags": []
   },
   "outputs": [],
   "source": []
  }
 ],
 "metadata": {
  "kernelspec": {
   "display_name": "Python 3",
   "language": "python",
   "name": "python3"
  },
  "language_info": {
   "codemirror_mode": {
    "name": "ipython",
    "version": 3
   },
   "file_extension": ".py",
   "mimetype": "text/x-python",
   "name": "python",
   "nbconvert_exporter": "python",
   "pygments_lexer": "ipython3",
   "version": "3.7.6"
  },
  "papermill": {
   "duration": 748.083963,
   "end_time": "2020-08-21T13:58:20.196568",
   "environment_variables": {},
   "exception": null,
   "input_path": "__notebook__.ipynb",
   "output_path": "__notebook__.ipynb",
   "parameters": {},
   "start_time": "2020-08-21T13:45:52.112605",
   "version": "2.1.0"
  }
 },
 "nbformat": 4,
 "nbformat_minor": 4
}
